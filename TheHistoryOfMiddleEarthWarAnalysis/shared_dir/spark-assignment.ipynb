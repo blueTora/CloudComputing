{
 "cells": [
  {
   "attachments": {},
   "cell_type": "markdown",
   "id": "ab4af3d7",
   "metadata": {},
   "source": [
    "<div align=\"middle\">\n",
    "  <h1><b><i>تمرین سوم</i></b></h1>\n",
    " </div>\n",
    "\n",
    "\n"
   ]
  },
  {
   "attachments": {},
   "cell_type": "markdown",
   "id": "69609c37",
   "metadata": {},
   "source": [
    "<div align=\"right\" dir=\"auto\">\n",
    "   \n",
    "\n",
    "    ۲- در  این قسمت شما باید ابتدا دیتاست داده شده را از حالت فشرده در بیاورید و سپس فایل‌های درون آن را در کلاستر هدوپ در مسیر /homework3/dataset/ بارگزاری کنید \n",
    "    نکته: در این بخش دستورات زده شده خود را برای کار با hdfs  در ترمینال را در سلول زیر وارد نمایید\n",
    "    برای دسترسی به کامند 'hdfs dfs'  میتوانید وارد یکی از کانتینر‌های هدوپ شوید و دستور را اجرا کنید همچنین همه کانتینر‌ها دارای shared_dir\n",
    "    در روت خود هستند و این دایرکتوری در تمام کانتینر‌ها به اشتراک گذاشته شده است\n",
    "    برای چک کردن فایل‌ها در hdfs به \n",
    "    \n",
    "[HDFS webUI](http://localhost:9870/explorer.html#/)\n",
    "    \n",
    "    مراجعه کنید\n",
    " </div>"
   ]
  },
  {
   "attachments": {},
   "cell_type": "markdown",
   "id": "53cc4170",
   "metadata": {},
   "source": [
    "hdfs dfs -mkdir -p /homework3/dataset/\n",
    "\n",
    "hdfs dfs -put /shared_dir/dataset/War.json /homework/dataset/\n",
    "\n",
    "hdfs dfs -put /shared_dir/dataset/Weapon.json /homework/dataset/\n",
    "\n",
    "------------------------------------"
   ]
  },
  {
   "attachments": {},
   "cell_type": "markdown",
   "id": "ce27b8a8",
   "metadata": {},
   "source": [
    "\n",
    "<div align=\"right\" dir=\"auto\">\n",
    "   \n",
    "##  اتصال به کلاستر اسپارک و هدوپ \n",
    "\n",
    "    در این قسمت از تمرین باید به عنوان درایور یک سسشن  به کلاستر اسپارک بسازیم.\n",
    " </div>\n",
    "  \n",
    "    "
   ]
  },
  {
   "cell_type": "code",
   "execution_count": 3,
   "id": "219af159",
   "metadata": {},
   "outputs": [],
   "source": [
    "import pyspark\n",
    "from pyspark import SparkContext \n",
    "from pyspark.sql import SparkSession,Row\n",
    "from pyspark.sql.functions import *\n",
    "import math\n",
    "import pandas , numpy\n",
    "import matplotlib\n",
    "import pprint\n",
    "    \n"
   ]
  },
  {
   "cell_type": "code",
   "execution_count": 5,
   "id": "4e270b90",
   "metadata": {},
   "outputs": [
    {
     "data": {
      "text/html": [
       "\n",
       "            <div>\n",
       "                <p><b>SparkSession - in-memory</b></p>\n",
       "                \n",
       "        <div>\n",
       "            <p><b>SparkContext</b></p>\n",
       "\n",
       "            <p><a href=\"http://10.20.30.100:4040\">Spark UI</a></p>\n",
       "\n",
       "            <dl>\n",
       "              <dt>Version</dt>\n",
       "                <dd><code>v3.0.0</code></dd>\n",
       "              <dt>Master</dt>\n",
       "                <dd><code>spark://spark-master:7077</code></dd>\n",
       "              <dt>AppName</dt>\n",
       "                <dd><code>homework3</code></dd>\n",
       "            </dl>\n",
       "        </div>\n",
       "        \n",
       "            </div>\n",
       "        "
      ],
      "text/plain": [
       "<pyspark.sql.session.SparkSession at 0x7f1da1da5700>"
      ]
     },
     "execution_count": 5,
     "metadata": {},
     "output_type": "execute_result"
    }
   ],
   "source": [
    "spark = SparkSession.builder.appName(\"homework3\").master(\"spark://spark-master:7077\").config(\"fs.defaultFS\",\"hdfs://namenode:9000/\").getOrCreate()\n",
    "spark"
   ]
  },
  {
   "attachments": {},
   "cell_type": "markdown",
   "id": "3ceee2ee",
   "metadata": {},
   "source": [
    "\n",
    "<div align=\"right\" dir=\"auto\">\n",
    "   \n",
    "#  خواندن داده \n",
    "\n",
    "    :در اسپارک ما ساختارهای مختلفی برای کار با داده و پخش شدن آن‌ها در شبکه داریم که به ۳ دسته تقسیم بندی میشوند \n",
    "+ RDD\n",
    "+ Dataset\n",
    "+ DataFrame\n",
    "    \n",
    "    \n",
    "     برای مطالعه بیشتر به لینک زیر مراجعه کنید:\n",
    "[rdd-vs-dataframe-vs-dataset](https://phoenixnap.com/kb/rdd-vs-dataframe-vs-dataset)\n",
    "\n",
    "    ما در درس با ساختار RDD آشنا شدیم حال در این تمرین میخواهیم با ساختار Dataframe آشنا شویم و به کمک آن دیتا را از روی HDFS بخوانیم و روی آن فایل‌ها پردازش انجام دهیم\n",
    " \n",
    " </div>\n",
    "  \n",
    "    "
   ]
  },
  {
   "attachments": {},
   "cell_type": "markdown",
   "id": "608b6504",
   "metadata": {},
   "source": [
    "- [Spark Cluster Master UI](http://localhost:8080/)\n",
    "- [Application master UI (driver UI)](http://localhost:4040)\n",
    "- [Web Hdfs](http://localhost:9870/explorer.html#/)\n"
   ]
  },
  {
   "attachments": {},
   "cell_type": "markdown",
   "id": "c38a04c5",
   "metadata": {},
   "source": [
    "<div align=\"right\" dir=\"auto\">\n",
    " .در این قسمت دیتاست را لود می‌کنیم \n",
    "</div>"
   ]
  },
  {
   "cell_type": "code",
   "execution_count": 6,
   "id": "835c1fc9",
   "metadata": {
    "jupyter": {
     "outputs_hidden": false
    }
   },
   "outputs": [
    {
     "name": "stderr",
     "output_type": "stream",
     "text": [
      "                                                                                \r"
     ]
    }
   ],
   "source": [
    "War = spark.read.json(f\"/homework3/dataset/War.json\")\n",
    "Weapon = spark.read.json(\"/homework3/dataset/Weapon.json\")"
   ]
  },
  {
   "attachments": {},
   "cell_type": "markdown",
   "id": "4e05aed4",
   "metadata": {},
   "source": [
    "<div align=\"right\" dir=\"auto\">\n",
    "برای اینکه بتوانیم روی دیتای لود شده به وسیله تابع  spark.sql\n",
    "    کوئری‌های SQL بزنیم\n",
    "    باید دو دیتاست لود شده را به عنوان table\n",
    "    به spark \n",
    "    معرفی کنیم\n",
    "</div>"
   ]
  },
  {
   "cell_type": "code",
   "execution_count": 7,
   "id": "c4025f80",
   "metadata": {},
   "outputs": [],
   "source": [
    "War.registerTempTable(\"War\")\n",
    "Weapon.registerTempTable(\"Weapon\")\n"
   ]
  },
  {
   "attachments": {},
   "cell_type": "markdown",
   "id": "ee27dd47",
   "metadata": {},
   "source": [
    "<div align=\"right\" dir=\"auto\">\n",
    " ده رکورد آخر را نمایش دهید\n",
    "</div>"
   ]
  },
  {
   "cell_type": "code",
   "execution_count": 17,
   "id": "362cb934",
   "metadata": {},
   "outputs": [
    {
     "name": "stderr",
     "output_type": "stream",
     "text": [
      "[Stage 8:==================================================>        (6 + 1) / 7]\r"
     ]
    },
    {
     "name": "stdout",
     "output_type": "stream",
     "text": [
      "+-----------+-------------+-------------+-------------+--------------+---------+\n",
      "|  DateOfWar|DurationOfWar|     Location|MinorityStart|TargetMinority|   Weapon|\n",
      "+-----------+-------------+-------------+-------------+--------------+---------+\n",
      "|73365-06-30|       1800.0|NAKHON PHANOM|          Elf|        Nazgul|     null|\n",
      "|73365-06-30|        800.0|NAKHON PHANOM|          Elf|        Nazgul|     null|\n",
      "|73365-06-30|        800.0|      U TAPAO|          Elf|        Nazgul|     null|\n",
      "|73365-06-30|        800.0|NAKHON PHANOM|          Elf|        Nazgul|     null|\n",
      "|73365-06-30|       1800.0|NAKHON PHANOM|          Elf|        Nazgul|     null|\n",
      "|73365-06-30|        800.0|     UDORN AB|          Elf|        Nazgul|     null|\n",
      "|73365-06-30|        800.0|        KORAT|          Elf|        Nazgul|Glamdring|\n",
      "|73365-06-30|        800.0|     UDORN AB|          Elf|        Nazgul|  Andúril|\n",
      "|73365-06-30|        800.0|NAKHON PHANOM|          Elf|        Nazgul|     null|\n",
      "|73365-06-30|        800.0|NAKHON PHANOM|          Elf|        Nazgul|     null|\n",
      "+-----------+-------------+-------------+-------------+--------------+---------+\n",
      "\n"
     ]
    },
    {
     "name": "stderr",
     "output_type": "stream",
     "text": [
      "                                                                                \r"
     ]
    }
   ],
   "source": [
    "spark.sql(\"select * from War ORDER BY DateOfWar DESC LIMIT 10;\").show()"
   ]
  },
  {
   "attachments": {},
   "cell_type": "markdown",
   "id": "b3428197",
   "metadata": {},
   "source": [
    "<div align=\"right\" dir=\"auto\">\n",
    "اسکیما یا ساختار دیتاست ها را نمایش دهید\n",
    "\n",
    "</div>"
   ]
  },
  {
   "cell_type": "code",
   "execution_count": 22,
   "id": "3b8bebde",
   "metadata": {},
   "outputs": [
    {
     "name": "stdout",
     "output_type": "stream",
     "text": [
      "root\n",
      " |-- DateOfWar: string (nullable = true)\n",
      " |-- DurationOfWar: double (nullable = true)\n",
      " |-- Location: string (nullable = true)\n",
      " |-- MinorityStart: string (nullable = true)\n",
      " |-- TargetMinority: string (nullable = true)\n",
      " |-- Weapon: string (nullable = true)\n",
      "\n",
      "root\n",
      " |-- Description: string (nullable = true)\n",
      " |-- Weapon: string (nullable = true)\n",
      "\n"
     ]
    }
   ],
   "source": [
    "War.printSchema()\n",
    "Weapon.printSchema()"
   ]
  },
  {
   "attachments": {},
   "cell_type": "markdown",
   "id": "c1f58ab3",
   "metadata": {},
   "source": [
    "### Expected\n",
    "![image](expected_answers/1.png)"
   ]
  },
  {
   "attachments": {},
   "cell_type": "markdown",
   "id": "9cae4dca",
   "metadata": {},
   "source": [
    "\n",
    "<div align=\"right\" dir=\"auto\">\n",
    "   \n",
    "#  اسپارک SQL \n",
    "\n",
    "    مهمترین قابلیت اسپارک این است که می‌تواند با خواندن فایل‌ها به صورت توزیع شده روی آن‌ها پردازش انجام دهد و این پردازش را برنامه ‌نویس میتواند با استفاده از دستورات SQL اعمال کند\n",
    "    در این بخش از شما انتظار می‌رود که به وسیله spark SQL  به اسپارک کوئری  بزنید . \n",
    "    \n",
    "    \n",
    " </div>\n",
    "\n",
    "[pyspark.sql.functions.col](https://spark.apache.org/docs/latest/api/python/reference/pyspark.sql/api/pyspark.sql.functions.col.html)\n",
    "\n",
    "[pyspark.sql.DataFrame.count](https://spark.apache.org/docs/latest/api/python/reference/pyspark.sql/api/pyspark.sql.DataFrame.count.html)\n",
    "\n",
    "[pyspark.sql.DataFrame.filter](https://spark.apache.org/docs/latest/api/python/reference/pyspark.sql/api/pyspark.sql.DataFrame.filter.html)\n",
    "\n",
    "[pyspark.sql.DataFrame.groupBy](https://spark.apache.org/docs/3.1.1/api/python/reference/api/pyspark.sql.DataFrame.groupBy.html)"
   ]
  },
  {
   "attachments": {},
   "cell_type": "markdown",
   "id": "d47546ec",
   "metadata": {},
   "source": [
    "<div align=\"right\" dir=\"auto\">\n",
    " چه تعداد نبرد در کل این دوران‌ها انجام شده است؟\n",
    "</div>"
   ]
  },
  {
   "cell_type": "code",
   "execution_count": 30,
   "id": "23388fad",
   "metadata": {
    "jupyter": {
     "outputs_hidden": false
    }
   },
   "outputs": [
    {
     "name": "stderr",
     "output_type": "stream",
     "text": [
      "[Stage 18:================>                                         (2 + 5) / 7]\r"
     ]
    },
    {
     "name": "stdout",
     "output_type": "stream",
     "text": [
      "Number of all Wars is  4400775\n"
     ]
    },
    {
     "name": "stderr",
     "output_type": "stream",
     "text": [
      "                                                                                \r"
     ]
    }
   ],
   "source": [
    "res1 = [data[0] for data in spark.sql(\"select count(*) from War\").collect()]\n",
    "\n",
    "print(\"Number of all Wars is \", res1[0])"
   ]
  },
  {
   "attachments": {
    "deedc615-bd69-4be2-bb8b-477bdd6b95f4.png": {
     "image/png": "[encoded data removed]"
    }
   },
   "cell_type": "markdown",
   "id": "ced92ef9",
   "metadata": {},
   "source": [
    "![2.png](attachment:deedc615-bd69-4be2-bb8b-477bdd6b95f4.png)### Expected\n",
    "![image](expected_answers/2.png)"
   ]
  },
  {
   "attachments": {},
   "cell_type": "markdown",
   "id": "26c5ccb9",
   "metadata": {},
   "source": [
    "<div align=\"right\" dir=\"auto\">\n",
    "هر نژاد در چه تعدادی نبرد مشارکت داشته اند  به صورت مرتب شده نمایش دهبد؟\n",
    "</div>"
   ]
  },
  {
   "cell_type": "code",
   "execution_count": 43,
   "id": "d1432df8",
   "metadata": {},
   "outputs": [
    {
     "name": "stderr",
     "output_type": "stream",
     "text": [
      "[Stage 45:==============================================>      (175 + 10) / 200]\r"
     ]
    },
    {
     "name": "stdout",
     "output_type": "stream",
     "text": [
      "  MinorityStart    count\n",
      "0           Elf  3708997\n",
      "1           Orc   622013\n",
      "2        Goblin    32777\n",
      "3         Dwarf    24469\n",
      "4        Hobbit    12519\n"
     ]
    },
    {
     "name": "stderr",
     "output_type": "stream",
     "text": [
      "                                                                                \r"
     ]
    }
   ],
   "source": [
    "pandasDF=spark.sql(\"select MinorityStart, count(MinorityStart) as count from War group by MinorityStart order by count desc;\").toPandas()\n",
    "print(pandasDF)"
   ]
  },
  {
   "attachments": {},
   "cell_type": "markdown",
   "id": "2c4549ce",
   "metadata": {},
   "source": [
    "### Expected\n",
    "![image](expected_answers/3.png)"
   ]
  },
  {
   "attachments": {},
   "cell_type": "markdown",
   "id": "4fdc27cb",
   "metadata": {},
   "source": [
    "\n",
    "<div align=\"right\" dir=\"auto\">\n",
    "   \n",
    "#  اسپارک toPandas \n",
    "\n",
    "    یکی ار قابلیت‌های اسپارک این است که می‌توان dataframe های آن را به \n",
    "    dataframe های pandas تبدیل کند و از توابع آن از جمله\n",
    "    توابع plot  آن برای رسم نمودار استفاده کرد.\n",
    "    در این قسمت از شما انتظار می‌رود نمودار تعداد جنگ‌ها بر اساس هر گونه را رسم کنید.\n",
    "    \n",
    " </div>\n",
    "  \n",
    "    \n",
    "\n",
    "  \n",
    "[pyspark.sql.DataFrame.toPandas](https://spark.apache.org/docs/latest/api/python/reference/pyspark.sql/api/pyspark.sql.DataFrame.toPandas.html)\n",
    "\n",
    "[pyspark.pandas.DataFrame.plot](https://spark.apache.org/docs/3.2.1/api/python/reference/pyspark.pandas/api/pyspark.pandas.DataFrame.plot.html)\n"
   ]
  },
  {
   "cell_type": "code",
   "execution_count": 102,
   "id": "8a1bbc45",
   "metadata": {},
   "outputs": [
    {
     "data": {
      "text/plain": [
       "<AxesSubplot: xlabel='MinorityStart'>"
      ]
     },
     "execution_count": 102,
     "metadata": {},
     "output_type": "execute_result"
    },
    {
     "data": {
      "image/png": "[encoded data removed]",
      "text/plain": [
       "<Figure size 640x480 with 1 Axes>"
      ]
     },
     "metadata": {},
     "output_type": "display_data"
    }
   ],
   "source": [
    "pandasDF.plot.bar(x='MinorityStart', y='count' ,log=True)\n"
   ]
  },
  {
   "attachments": {},
   "cell_type": "markdown",
   "id": "73f11782",
   "metadata": {},
   "source": [
    "### Expected\n",
    "![image](expected_answers/plotlib.png)"
   ]
  },
  {
   "attachments": {},
   "cell_type": "markdown",
   "id": "a3aa23ec",
   "metadata": {},
   "source": [
    "<div align=\"right\" dir=\"auto\">\n",
    "چه تعداد نبردهایی بر اساس زمان انجام شده بر اساس زمان مرتب کنید\n",
    "</div>"
   ]
  },
  {
   "cell_type": "code",
   "execution_count": 96,
   "id": "6a4d4c9d",
   "metadata": {},
   "outputs": [
    {
     "name": "stderr",
     "output_type": "stream",
     "text": [
      "[Stage 50:================================================>    (182 + 11) / 200]\r"
     ]
    },
    {
     "name": "stdout",
     "output_type": "stream",
     "text": [
      "+-----------+-----+\n",
      "|  DateOfWar|count|\n",
      "+-----------+-----+\n",
      "|73295-10-01|  447|\n",
      "|73295-10-02|  652|\n",
      "|73295-10-03|  608|\n",
      "|73295-10-04|  532|\n",
      "|73295-10-05|  769|\n",
      "|73295-10-06|  738|\n",
      "|73295-10-07|  655|\n",
      "|73295-10-08|  764|\n",
      "|73295-10-09|  746|\n",
      "|73295-10-10|  848|\n",
      "|73295-10-11|  503|\n",
      "|73295-10-12|  511|\n",
      "|73295-10-13|  395|\n",
      "|73295-10-14|  469|\n",
      "|73295-10-15|  492|\n",
      "|73295-10-16|  533|\n",
      "|73295-10-17|  381|\n",
      "|73295-10-18|  529|\n",
      "|73295-10-19|  649|\n",
      "|73295-10-20|  624|\n",
      "+-----------+-----+\n",
      "only showing top 20 rows\n",
      "\n"
     ]
    },
    {
     "name": "stderr",
     "output_type": "stream",
     "text": [
      "                                                                                \r"
     ]
    }
   ],
   "source": [
    "spark.sql(\"select DateOfWar, count(DateOfWar) as count from War group by DateOfWar order by DateOfWar;\").show()"
   ]
  },
  {
   "attachments": {},
   "cell_type": "markdown",
   "id": "673043a0",
   "metadata": {},
   "source": [
    "### Expected\n",
    "![image](expected_answers/date_groupBy.png)"
   ]
  },
  {
   "attachments": {},
   "cell_type": "markdown",
   "id": "54928c76",
   "metadata": {},
   "source": [
    "<div align=\"right\" dir=\"auto\">\n",
    "نژاد \"اورک\" توسط چه نژادی مورد حمله قرار گرفته است ؟\n",
    "</div>"
   ]
  },
  {
   "cell_type": "code",
   "execution_count": 101,
   "id": "c15e298b",
   "metadata": {},
   "outputs": [
    {
     "name": "stderr",
     "output_type": "stream",
     "text": [
      "                                                                                \r"
     ]
    },
    {
     "name": "stdout",
     "output_type": "stream",
     "text": [
      "+-------------+\n",
      "|MinorityStart|\n",
      "+-------------+\n",
      "|          Elf|\n",
      "|          Orc|\n",
      "|       Hobbit|\n",
      "|        Dwarf|\n",
      "+-------------+\n",
      "\n"
     ]
    }
   ],
   "source": [
    "spark.sql(\"SELECT distinct MinorityStart FROM War WHERE TargetMinority = 'Orc'\").show()"
   ]
  },
  {
   "attachments": {},
   "cell_type": "markdown",
   "id": "be6c79e8",
   "metadata": {},
   "source": [
    "### Expected\n",
    "![image](expected_answers/orc_target.png)"
   ]
  },
  {
   "attachments": {},
   "cell_type": "markdown",
   "id": "4832afbe",
   "metadata": {},
   "source": [
    "\n",
    "<div align=\"right\" dir=\"auto\">\n",
    "   \n",
    "#  اسپارک Shuffle \n",
    "\n",
    "    Spark SQL shuffle مکانیزمی است برای توزیع مجدد یا پارتیشن بندی مجدد داده ها به طوری که داده ها به طور متفاوت در پارتیشن ها گروه بندی می شوند، بر اساس اندازه داده شما ممکن است نیاز باشد تعداد پارتیشن های RDD/DataFrame را با استفاده از اسپارک کاهش یا افزایش دهید.\n",
    "    برای مثال وقتی روی دو dataframe مختلف که روی شبکه توزیع شده اند\n",
    "    دستور join را میزنیم یک عملیات \n",
    "    shuffling انجام میشود\n",
    "    در این قسمت از شما انتظار می‌رود کوئری جوین زیر را نوشته و اجرا کنید همچنین به  صفحه \n",
    "    application master ui\n",
    "    مراجعه کنید و نحوه shuffleing را گزارش کنید . \n",
    " </div>\n",
    "  \n",
    "    \n",
    "\n",
    "  \n",
    "[shuffling in standalone cluster](https://medium.com/@rachit1arora/apache-spark-shuffle-service-there-are-more-than-one-options-c1a8e098230e)\n",
    "\n"
   ]
  },
  {
   "attachments": {},
   "cell_type": "markdown",
   "id": "7bfc42ae",
   "metadata": {},
   "source": [
    "<div align=\"right\" dir=\"auto\">\n",
    "    \n",
    "    بیشترین سلاحی که در این جنگ ها استفاده شده کدام سلاح  بوده است؟.\n",
    "    جزییات این سلاح را از فایل مشخصات سلاح (Weapon) می‌توانید بدست آورید.\n",
    "    فایل مربوط به سلاح ها را بازخوانی کرده و برای نمایش بین دو فایل از join استفاده شود.\n",
    "\n",
    "</div>"
   ]
  },
  {
   "cell_type": "code",
   "execution_count": 112,
   "id": "c356a65c",
   "metadata": {},
   "outputs": [
    {
     "name": "stderr",
     "output_type": "stream",
     "text": [
      "[Stage 100:==================================================>  (192 + 8) / 200]\r"
     ]
    },
    {
     "name": "stdout",
     "output_type": "stream",
     "text": [
      "+------------+------------+--------------------+\n",
      "|      Weapon|MissionCount|         Description|\n",
      "+------------+------------+--------------------+\n",
      "|     Andúril|      909362|\"Reforged from th...|\n",
      "|       Narya|      451385|Narya has the pow...|\n",
      "|       Vilya|      372975| Vilya was the st...|\n",
      "|     Orcrist|      358498|\"A sword in The H...|\n",
      "|Mirkwood Bow|      267457| Legolas wielded ...|\n",
      "|       Nenya|      242231|Galadriel’s ring ...|\n",
      "|   Glamdring|      165773|\"A sword in The H...|\n",
      "|    Aranrúth|      146543|A sword wielded b...|\n",
      "| Master Ring|      144601|The Ring was a si...|\n",
      "|       Sting|      140410|A knife in The Ho...|\n",
      "|       Grond|       99100|\"The name of the ...|\n",
      "|Dragon-helm |       82219|A helmet owned an...|\n",
      "|      Aeglos|       76525|A spear wielded b...|\n",
      "|    Herugrim|       75058|A sword that belo...|\n",
      "|   Red Arrow|       73843|\"A black-feathere...|\n",
      "|   Anglachel|       71716|A sword forged by...|\n",
      "|    Gúthwinë|       58691|A sword wielded b...|\n",
      "|Belthronding|       52865|A bow wielded by ...|\n",
      "|      Ringil|       50843|A sword wielded b...|\n",
      "|  Dramborleg|       41655|An axe belonging ...|\n",
      "+------------+------------+--------------------+\n",
      "\n"
     ]
    },
    {
     "name": "stderr",
     "output_type": "stream",
     "text": [
      "                                                                                \r"
     ]
    }
   ],
   "source": [
    "spark.sql(\"Select Weapon, count(Weapon) as MissionCount, Description From Weapon natural inner join War group by Weapon, Description order by MissionCount desc;\").show()"
   ]
  },
  {
   "attachments": {},
   "cell_type": "markdown",
   "id": "cc1cacc3",
   "metadata": {},
   "source": [
    "### Expected\n",
    "![image](expected_answers/most_used_weapons.png)"
   ]
  },
  {
   "attachments": {
    "595df80d-3f56-4c77-aa47-2f7f66c5dd5e.png": {
     "image/png": "[encoded data removed]"
    },
    "9fe04ce6-2136-437c-8486-86bb42d2c4dd.png": {
     "image/png": "[encoded data removed]"
    }
   },
   "cell_type": "markdown",
   "id": "5c548234",
   "metadata": {},
   "source": [
    "  <div align=\"right\" dir=\"auto\">\n",
    "    # ToDo\n",
    "     # Refere to Application master UI\n",
    "     \n",
    "  ![image.png](attachment:595df80d-3f56-4c77-aa47-2f7f66c5dd5e.png)\n",
    "  \n",
    "  ![image.png](attachment:9fe04ce6-2136-437c-8486-86bb42d2c4dd.png)\n",
    "   \n",
    "</div>\n",
    " "
   ]
  },
  {
   "attachments": {},
   "cell_type": "markdown",
   "id": "190d2e03",
   "metadata": {},
   "source": [
    "\n",
    "<div align=\"right\" dir=\"auto\">\n",
    "   \n",
    "# تابع تعریف شده توسط کاربر(UDF)\n",
    "\n",
    "    یکی از مزایای اسپارک این است که نه تنها برای ما یک زبان SQL فراهم کرده که روی چندین سرور به صورت همزمان پردازش را انجام دهد بلکه \n",
    "    میتوان به زبان‌های مختلف توابعی تعریف کرد که روی  همه executor ها اجرا شود\n",
    "    در این بخش از شما انتظار می‌رود که با نوشتن یک UDF به زبان پایتونی \n",
    "    توضیحات هر اسلحه را به 3 کلمه اول آن کوتاه کنید و بقیه کلمات را حذف کنید و سوتونی به نام short_description را به داده های \n",
    "    Weapon اضافه کنید\n",
    "    \n",
    "    \n",
    " </div>\n",
    " \n",
    "[pyspark.sql.functions.udf](https://spark.apache.org/docs/3.1.3/api/python/reference/api/pyspark.sql.functions.udf.html)\n",
    "\n",
    "[pyspark.sql.DataFrame.withColumn](https://spark.apache.org/docs/3.1.3/api/python/reference/api/pyspark.sql.DataFrame.withColumn.html)\n",
    "\n",
    "    \n",
    "\n"
   ]
  },
  {
   "cell_type": "code",
   "execution_count": 118,
   "id": "4d699216",
   "metadata": {},
   "outputs": [
    {
     "name": "stderr",
     "output_type": "stream",
     "text": [
      "[Stage 106:>                                                        (0 + 1) / 1]\r"
     ]
    },
    {
     "name": "stdout",
     "output_type": "stream",
     "text": [
      "+--------------------+------------+--------------------+\n",
      "|         Description|      Weapon|   short_description|\n",
      "+--------------------+------------+--------------------+\n",
      "|Narya has the pow...|       Narya|      Narya has the |\n",
      "| Vilya was the st...|       Vilya|      Vilya was the |\n",
      "|\"Reforged from th...|     Andúril| \"Reforged from the |\n",
      "|\"A sword in The H...|     Orcrist|        \"A sword in |\n",
      "| Legolas wielded ...|Mirkwood Bow|Legolas wielded two |\n",
      "|Galadriel’s ring ...|       Nenya|Galadriel’s ring ...|\n",
      "|\"A sword in The H...|   Glamdring|        \"A sword in |\n",
      "|A sword wielded b...|    Aranrúth|    A sword wielded |\n",
      "|The Ring was a si...| Master Ring|       The Ring was |\n",
      "|A knife in The Ho...|       Sting|         A knife in |\n",
      "|\"The name of the ...|       Grond|       \"The name of |\n",
      "|A helmet owned an...|Dragon-helm |     A helmet owned |\n",
      "|A spear wielded b...|      Aeglos|    A spear wielded |\n",
      "|A sword that belo...|    Herugrim|       A sword that |\n",
      "|\"A black-feathere...|   Red Arrow|\"A black-feathere...|\n",
      "|A sword forged by...|   Anglachel|     A sword forged |\n",
      "|A sword wielded b...|    Gúthwinë|    A sword wielded |\n",
      "|A bow wielded by ...|Belthronding|      A bow wielded |\n",
      "|A sword wielded b...|      Ringil|    A sword wielded |\n",
      "|An axe belonging ...|  Dramborleg|   An axe belonging |\n",
      "+--------------------+------------+--------------------+\n",
      "\n"
     ]
    },
    {
     "name": "stderr",
     "output_type": "stream",
     "text": [
      "                                                                                \r"
     ]
    }
   ],
   "source": [
    "def shorten(s):\n",
    "    if(s[0]==' '):\n",
    "        s=s[1:]\n",
    "    words = s.split(' ')    \n",
    "    \n",
    "    if len(words) <= 3:\n",
    "        return s\n",
    "    res = ''\n",
    "    \n",
    "    for i in range(3):\n",
    "        res += words[i] + ' '\n",
    "        \n",
    "    return res\n",
    "\n",
    "shortenUDF = udf(lambda m: shorten(m))\n",
    "Weapon.withColumn(\"short_description\", shortenUDF(\"Description\")).show()\n"
   ]
  },
  {
   "attachments": {},
   "cell_type": "markdown",
   "id": "5ce1c608",
   "metadata": {},
   "source": [
    "### Expected\n",
    "![image](expected_answers/shortener_udf.png)"
   ]
  },
  {
   "attachments": {},
   "cell_type": "markdown",
   "id": "623356da",
   "metadata": {},
   "source": [
    "\n",
    "<div align=\"right\" dir=\"auto\">\n",
    "   \n",
    "# نوشتن داده و پارتیشنینگ\n",
    "    زمانی که میخواهیم داده های حجیم را به صورت فایل هایی ذخیره کنیم  نمیتوانیم همه داده را در یک فایل بزرگ ذخیره کنیم به چند دلیل :\n",
    "-  ذخیره سازی یک فایل بزرگ باعث ؛تنها نقطه شکست میشود؛ و با حذف آن کل داده از دست میرود\n",
    "- جستجو در این یک فایل بزرگ که مرتب شده نیست دشوار و عملی نیست\n",
    "- آپدیت کردن سخت تر میشود\n",
    "پس تا حدودی حل این میشکل از راه حل های زیر استفاده میکنیم\n",
    "# پارتیشنینگ: \n",
    "-     بر اساس یک فیلد داده هارا دسته بندی میکنیم و در دایرکتوری های مختلف میریزیم این کار را اسپارک برای ما انجام میدهد\n",
    "\n",
    "    \n",
    " </div>\n",
    "  \n",
    "    \n",
    "\n"
   ]
  },
  {
   "attachments": {},
   "cell_type": "markdown",
   "id": "d7a271b3",
   "metadata": {},
   "source": [
    "<div align=\"right\" dir=\"rtl\">\n",
    "\n",
    "    در این بخش شما باید یک دیتاست کامل بسازید بدین شکل که دیتاست War و Weapon\n",
    "     را با یکدیگر جوین کنید سپس همه آن رکورد‌هایی که  در توضیحات اسلحه آنها کلمه sword \n",
    "    نیامده است را فیلتر کرده و برا اساس گونه شروع کننده جنگ (MinorityStart) پارتیشن کنید\n",
    "    و روی HDFS\n",
    "      در مسیر /homework3/<student_number>/output/war_without_sword بنویسید\n",
    "    و ۲۰ رکورد اول آن را نمایش دهید\n",
    "    توجه کنید فایل‌های خروجی باید از نوع JSON باشند\n",
    "    \n",
    "    \n",
    "</div>\n",
    "\n",
    "[pyspark.sql.DataFrameWriter.partitionBy](https://spark.apache.org/docs/latest/api/python/reference/pyspark.sql/api/pyspark.sql.DataFrameWriter.partitionBy.html)\n"
   ]
  },
  {
   "cell_type": "code",
   "execution_count": 125,
   "id": "70429bbf",
   "metadata": {
    "jupyter": {
     "outputs_hidden": false
    }
   },
   "outputs": [
    {
     "name": "stderr",
     "output_type": "stream",
     "text": [
      "                                                                                \r"
     ]
    },
    {
     "name": "stdout",
     "output_type": "stream",
     "text": [
      "+------------+-----------+-------------+-------------+-------------+--------------+--------------------+\n",
      "|      Weapon|  DateOfWar|DurationOfWar|     Location|MinorityStart|TargetMinority|         Description|\n",
      "+------------+-----------+-------------+-------------+-------------+--------------+--------------------+\n",
      "|Belthronding|73361-06-05|       1005.0| TAN SON NHUT|          Elf|           Orc|A bow wielded by ...|\n",
      "|Belthronding|73362-12-26|        530.0|NAKHON PHANOM|          Elf|           Orc|A bow wielded by ...|\n",
      "|       Nenya|73363-07-28|        730.0|     UDORN AB|          Elf|        Goblin|Galadriel’s ring ...|\n",
      "|Mirkwood Bow|73360-10-08|       1240.0|       DANANG|          Orc|           Orc| Legolas wielded ...|\n",
      "|       Vilya|73362-03-08|       1005.0|  TONKIN GULF|          Elf|        Goblin| Vilya was the st...|\n",
      "|Belthronding|73362-09-12|        710.0| TAN SON NHUT|          Elf|           Orc|A bow wielded by ...|\n",
      "| Master Ring|73361-05-12|       1304.0|  TONKIN GULF|          Elf|        Goblin|The Ring was a si...|\n",
      "|  Dramborleg|73361-12-19|        230.0|   SAVANAKHET|       Goblin|        Goblin|An axe belonging ...|\n",
      "| Master Ring|73362-08-18|          0.0|  TONKIN GULF|          Elf|        Nazgul|The Ring was a si...|\n",
      "|   Red Arrow|73361-09-20|       1315.0|    BINH THUY|          Orc|           Orc|\"A black-feathere...|\n",
      "|Mirkwood Bow|73361-12-13|        318.0|     BIEN HOA|          Elf|           Orc| Legolas wielded ...|\n",
      "|       Nenya|73362-01-08|        850.0|     UDORN AB|          Elf|        Goblin|Galadriel’s ring ...|\n",
      "|Mirkwood Bow|73361-02-08|       1518.0|    BINH THUY|          Orc|           Orc| Legolas wielded ...|\n",
      "|       Nenya|73360-12-08|          0.0|     UDORN AB|          Elf|        Goblin|Galadriel’s ring ...|\n",
      "|      Aeglos|73361-06-01|       1410.0| TAN SON NHUT|          Elf|           Orc|A spear wielded b...|\n",
      "| Master Ring|73361-08-11|        805.0|  TONKIN GULF|          Elf|        Goblin|The Ring was a si...|\n",
      "|  Dramborleg|73362-05-07|        505.0|        PAKSE|       Goblin|        Goblin|An axe belonging ...|\n",
      "|       Nenya|73364-08-01|        304.0|     UDORN AB|          Elf|           Orc|Galadriel’s ring ...|\n",
      "|       Grond|73362-02-21|       1925.0|      U TAPAO|          Elf|        Goblin|\"The name of the ...|\n",
      "|Mirkwood Bow|73362-08-03|        515.0|     BIEN HOA|          Elf|           Orc| Legolas wielded ...|\n",
      "+------------+-----------+-------------+-------------+-------------+--------------+--------------------+\n",
      "only showing top 20 rows\n",
      "\n"
     ]
    },
    {
     "name": "stderr",
     "output_type": "stream",
     "text": [
      "                                                                                \r"
     ]
    }
   ],
   "source": [
    "war_weapon = War.join(Weapon,on='Weapon')\n",
    "war_without_sword = war_weapon.filter(~war_weapon.Description.contains(\"sword\"))\n",
    "war_without_sword.show()\n",
    "\n",
    "partitioned_data = war_without_sword.write.partitionBy(\"MinorityStart\").json(\"/homework3/9831103_9722039/output/war_without_sword/\")"
   ]
  },
  {
   "attachments": {},
   "cell_type": "markdown",
   "id": "bb6d8387",
   "metadata": {},
   "source": [
    "### Expected\n",
    "![war without sword](expected_answers/war_without_sword.png)\n",
    "\n",
    "\n"
   ]
  },
  {
   "attachments": {},
   "cell_type": "markdown",
   "id": "369afbf5",
   "metadata": {},
   "source": [
    "<div align=\"right\" dir=\"rtl\">\n",
    "\n",
    "   ## coalesce\n",
    "    همان تسک بالا را انجام دهید  ولی  سعی کنید در هر دایرکتوری پارتیشن شده تنها یک فایل JSON ریخته شود.\n",
    "    نکته:  در مسیر جدید زیر آن را بنویسید.\n",
    "    /homework3/<student_number>/output/war_without_sword_v2/\n",
    "    \n",
    "    \n",
    "</div>\n",
    "\n",
    "[pyspark.sql.DataFrame.coalesce](https://spark.apache.org/docs/3.1.1/api/python/reference/api/pyspark.sql.DataFrame.coalesce.html)\n"
   ]
  },
  {
   "cell_type": "code",
   "execution_count": 127,
   "id": "7363eec1",
   "metadata": {},
   "outputs": [
    {
     "name": "stderr",
     "output_type": "stream",
     "text": [
      "                                                                                \r"
     ]
    }
   ],
   "source": [
    "war_without_sword.coalesce(1).write.partitionBy(\"MinorityStart\").json(\"/homework3/9831103_9722039/output/war_without_sword_v2/\")"
   ]
  }
 ],
 "metadata": {
  "kernelspec": {
   "display_name": "Python 3 (ipykernel)",
   "language": "python",
   "name": "python3"
  },
  "language_info": {
   "codemirror_mode": {
    "name": "ipython",
    "version": 3
   },
   "file_extension": ".py",
   "mimetype": "text/x-python",
   "name": "python",
   "nbconvert_exporter": "python",
   "pygments_lexer": "ipython3",
   "version": "3.10.7"
  }
 },
 "nbformat": 4,
 "nbformat_minor": 5
}
