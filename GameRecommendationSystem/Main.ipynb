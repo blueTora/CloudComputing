{
 "cells": [
  {
   "cell_type": "code",
   "execution_count": null,
   "id": "790dfc83",
   "metadata": {},
   "outputs": [],
   "source": [
    "from pyspark.sql import SparkSession\n",
    "from pyspark.ml.recommendation import ALS"
   ]
  },
  {
   "cell_type": "code",
   "execution_count": null,
   "id": "4cee22cf",
   "metadata": {},
   "outputs": [],
   "source": [
    "spark = SparkSession.builder.appName(\"Game Recommendation System\").getOrCreate()"
   ]
  },
  {
   "cell_type": "code",
   "execution_count": null,
   "id": "ef76c570",
   "metadata": {},
   "outputs": [],
   "source": [
    "game_df = spark.read.csv('games.csv', header=True).cache()\n",
    "rating_df = spark.read.csv('ratings.csv', header=True).cache()"
   ]
  },
  {
   "cell_type": "code",
   "execution_count": null,
   "id": "d93cda10",
   "metadata": {},
   "outputs": [],
   "source": [
    "game_df = game_df.withColumn('game_id', game_df['game_id'].cast('int'))\n",
    "\n",
    "rating_df = rating_df.withColumn('user_id', rating_df['user_id'].cast('int'))\n",
    "rating_df = rating_df.withColumn('game_id', rating_df['game_id'].cast('int'))\n",
    "rating_df = rating_df.withColumn('rating', rating_df['rating'].cast('int'))"
   ]
  },
  {
   "cell_type": "code",
   "execution_count": null,
   "id": "6c626ccd",
   "metadata": {},
   "outputs": [],
   "source": [
    "rating_df.show()"
   ]
  },
  {
   "cell_type": "code",
   "execution_count": null,
   "id": "1535fb14",
   "metadata": {},
   "outputs": [],
   "source": [
    "game_df.show()"
   ]
  },
  {
   "cell_type": "code",
   "execution_count": null,
   "id": "ba800471",
   "metadata": {},
   "outputs": [],
   "source": [
    "target_id = input('Enter ID: ')"
   ]
  },
  {
   "cell_type": "code",
   "execution_count": null,
   "id": "fe5170e0",
   "metadata": {},
   "outputs": [],
   "source": [
    "rating_df.registerTempTable('ratings')\n",
    "game_df.registerTempTable('games')"
   ]
  },
  {
   "cell_type": "code",
   "execution_count": null,
   "id": "f77e33a6",
   "metadata": {},
   "outputs": [],
   "source": [
    "# Alternating Least Squares - PySpark Collaborative Filtering \n",
    "# ALS by default does explicit feedback\n",
    "# Building ALU Model\n",
    "als = ALS()\n",
    "als.setMaxIter(5) # max number of iter to run \n",
    "als.setRegParam(0.01) # specifies the regularization param in ALS\n",
    "als.setUserCol('user_id') # users column\n",
    "als.setItemCol('game_id') # ratings column\n",
    "als.setRatingCol('rating') # game's ratings\n",
    "alsModel.setColdStartStrategy('drop') # in order to ensure we wont get NaN (Not a Number) values"
   ]
  },
  {
   "cell_type": "code",
   "execution_count": null,
   "id": "ab51af36",
   "metadata": {},
   "outputs": [],
   "source": [
    "# Training Model\n",
    "(training_data, test_data) = rating_df.randomSplit([0.8, 0.2])\n",
    "\n",
    "als_model = als.fit(training_data)"
   ]
  },
  {
   "cell_type": "code",
   "execution_count": null,
   "id": "af3d5848",
   "metadata": {},
   "outputs": [],
   "source": [
    "# Perdiction Error\n",
    "predictions = als_model.transform(test_data)\n",
    "\n",
    "evaluator = RegressionEvaluator(metricName=\"rmse\", labelCol=\"rating\", predictionCol=\"predictions\")\n",
    "rmse = evaluator.evaluate(predictions)\n",
    "\n",
    "print(\"Error = \", str(rmse))"
   ]
  },
  {
   "cell_type": "code",
   "execution_count": null,
   "id": "978bbbba",
   "metadata": {},
   "outputs": [],
   "source": [
    "games_ratings_df = spark.sql('select * from games inner join ratings using (game_id);')\n",
    "games_ratings_df.registerTempTable('games_ratings')"
   ]
  },
  {
   "cell_type": "code",
   "execution_count": null,
   "id": "51260c68",
   "metadata": {},
   "outputs": [],
   "source": [
    "recommendations = als_model.recommendForUserSubset(games_ratings.where(games_ratings.user_id == int(target_id)), 5)\n",
    "search = recommendations.collect()\n",
    "\n",
    "for i in range(5):\n",
    "    print(game_df.select('name').where(game_df.game_id == search[0][1][i][0]).collect())"
   ]
  }
 ],
 "metadata": {
  "kernelspec": {
   "display_name": "Python 3 (ipykernel)",
   "language": "python",
   "name": "python3"
  },
  "language_info": {
   "codemirror_mode": {
    "name": "ipython",
    "version": 3
   },
   "file_extension": ".py",
   "mimetype": "text/x-python",
   "name": "python",
   "nbconvert_exporter": "python",
   "pygments_lexer": "ipython3",
   "version": "3.10.7"
  }
 },
 "nbformat": 4,
 "nbformat_minor": 5
}
